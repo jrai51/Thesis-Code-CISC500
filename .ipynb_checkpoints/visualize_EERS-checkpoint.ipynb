{
 "cells": [
  {
   "cell_type": "code",
   "execution_count": 13,
   "id": "873ef3ce",
   "metadata": {},
   "outputs": [],
   "source": [
    "import pandas as pd \n",
    "import numpy as np"
   ]
  },
  {
   "cell_type": "code",
   "execution_count": 30,
   "id": "6ac494ba",
   "metadata": {},
   "outputs": [
    {
     "name": "stdout",
     "output_type": "stream",
     "text": [
      "        MEMTO window sum:  MEMTO pointwise:  Anom-Trans window sum:  \\\n",
      "mean             0.494297          0.520838                0.528438   \n",
      "median           0.518600          0.547200                0.505900   \n",
      "std              0.125543          0.130220                0.104304   \n",
      "\n",
      "        Anom-Trans pointwise:  \n",
      "mean                 0.500024  \n",
      "median               0.500000  \n",
      "std                  0.001299  \n"
     ]
    },
    {
     "data": {
      "text/plain": [
       "Index(['MEMTO window sum:', 'MEMTO pointwise:', 'Anom-Trans window sum:',\n",
       "       'Anom-Trans pointwise:'],\n",
       "      dtype='object', name='User IDs:')"
      ]
     },
     "execution_count": 30,
     "metadata": {},
     "output_type": "execute_result"
    }
   ],
   "source": [
    "eers_df_raw = pd.read_csv(\"Architecture_EERs.csv\")\n",
    "\n",
    "\n",
    "# latex_code = eers_df.to_latex(caption=\"EER for Each User\", label=\"tab:eers\")\n",
    "# print(latex_code)\n",
    "\n",
    "# Transpose the DataFrame\n",
    "eers_df = eers_df_raw.T\n",
    "\n",
    "# Reset the column names after transpose (use the first row as the column headers)\n",
    "eers_df.columns = eers_df.iloc[0]\n",
    "\n",
    "# Now drop the user ids column\n",
    "eers_df = eers_df[1:]\n",
    "\n",
    "# Now, you can calculate summary statistics\n",
    "summary_stats = eers_df.agg(['mean', 'median', 'std'])\n",
    "\n",
    "# Print the summary statistics\n",
    "print(summary_stats)\n",
    "\n",
    "# latex_code = summary_stats.to_latex(caption=\"EER Summary for Classification Methods\", label=\"tab:summary_stats\")\n",
    "# print(latex_code)\n",
    "\n",
    "\n",
    "eers_df.columns"
   ]
  },
  {
   "cell_type": "code",
   "execution_count": 31,
   "id": "8b323457",
   "metadata": {},
   "outputs": [
    {
     "name": "stdout",
     "output_type": "stream",
     "text": [
      "  MEMTO Window MEMTO Pointwise AT Window AT Pointwise\n",
      "1       0.4746          0.5521    0.5059          0.5\n",
      "2       0.6164          0.3488    0.4885          0.5\n",
      "3       0.7454           0.556    0.4375          0.5\n",
      "4        0.642          0.6373    0.4238          0.5\n",
      "5       0.5427          0.6652    0.5835       0.5052\n"
     ]
    }
   ],
   "source": [
    "\n",
    "# Directly assign new column names\n",
    "eers_df.columns = ['MEMTO Window', 'MEMTO Pointwise', 'AT Window', 'AT Pointwise']\n",
    "\n",
    "# Print the updated DataFrame\n",
    "print(eers_df.head())\n"
   ]
  },
  {
   "cell_type": "code",
   "execution_count": 36,
   "id": "fdf8bc2a",
   "metadata": {},
   "outputs": [
    {
     "data": {
      "image/png": "[encoded data removed]",
      "text/plain": [
       "<Figure size 720x432 with 1 Axes>"
      ]
     },
     "metadata": {
      "needs_background": "light"
     },
     "output_type": "display_data"
    }
   ],
   "source": [
    "import matplotlib.pyplot as plt\n",
    "import seaborn as sns\n",
    "\n",
    "\n",
    "# Plotting the boxplot using seaborn\n",
    "plt.figure(figsize=(10, 6))  # Adjust the figure size as needed\n",
    "sns.boxplot(data=eers_df, palette=\"Set2\")\n",
    "\n",
    "# Title and labels\n",
    "plt.xlabel('Classification Methods')\n",
    "plt.ylabel('EER')\n",
    "\n",
    "# Display the plot\n",
    "plt.tight_layout()  # This ensures the plot fits well within the window\n",
    "plt.show()\n"
   ]
  },
  {
   "cell_type": "code",
   "execution_count": null,
   "id": "6356db23",
   "metadata": {},
   "outputs": [],
   "source": []
  }
 ],
 "metadata": {
  "kernelspec": {
   "display_name": "Python 3 (ipykernel)",
   "language": "python",
   "name": "python3"
  },
  "language_info": {
   "codemirror_mode": {
    "name": "ipython",
    "version": 3
   },
   "file_extension": ".py",
   "mimetype": "text/x-python",
   "name": "python",
   "nbconvert_exporter": "python",
   "pygments_lexer": "ipython3",
   "version": "3.8.6"
  }
 },
 "nbformat": 4,
 "nbformat_minor": 5
}
