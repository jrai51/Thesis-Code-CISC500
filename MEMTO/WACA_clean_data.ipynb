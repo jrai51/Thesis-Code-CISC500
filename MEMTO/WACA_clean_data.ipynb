{
 "cells": [
  {
   "cell_type": "code",
   "execution_count": 1,
   "id": "b65473e6",
   "metadata": {},
   "outputs": [
    {
     "data": {
      "text/plain": [
       "'2.0.3'"
      ]
     },
     "execution_count": 1,
     "metadata": {},
     "output_type": "execute_result"
    }
   ],
   "source": [
    "from WACA_clean_data import *\n",
    "import pandas\n",
    "pandas.__version__"
   ]
  },
  {
   "cell_type": "code",
   "execution_count": 2,
   "id": "ca1ee8ef",
   "metadata": {},
   "outputs": [
    {
     "name": "stdout",
     "output_type": "stream",
     "text": [
      "51974\n"
     ]
    }
   ],
   "source": [
    "path_to_train = \"data/WACA/WACA/WACA_dataset/user1_2.csv\"\n",
    "save_user_train_data(path_to_train)\n",
    "\n",
    "# Load the saved .npy file\n",
    "loaded_data = np.load(\"data/WACA/WACA/WACA_train.npy\")\n",
    "print(len(loaded_data))"
   ]
  },
  {
   "cell_type": "code",
   "execution_count": 3,
   "id": "7b04fe3d",
   "metadata": {},
   "outputs": [
    {
     "name": "stdout",
     "output_type": "stream",
     "text": [
      "      timestamp  label\n",
      "0  7.210794e+11      0\n",
      "1  7.210914e+11      0\n",
      "2  7.210914e+11      0\n",
      "3  7.210947e+11      0\n",
      "4  7.210969e+11      0\n"
     ]
    }
   ],
   "source": [
    "# SAVE ALL SENSOR DATA FROM TEST\n",
    "# TEST WITH USER1 AS GENUINE DATA\n",
    "\n",
    "path_to_test = \"data/WACA/WACA/WACA_dataset/user1_1.csv\"\n",
    "save_user_test_data(path_to_test, path_to_npy=\"data/WACA/WACA/WACA_test.npy\", path_to_csv=\"data/WACA/WACA/test.csv\")\n",
    "save_user_test_label_data(impostor=False, path_to_csv=\"data/WACA/WACA/test.csv\", path_to_test_label=\"data/WACA/WACA/test_label.csv\")\n"
   ]
  },
  {
   "cell_type": "code",
   "execution_count": 4,
   "id": "750e3618",
   "metadata": {},
   "outputs": [
    {
     "name": "stdout",
     "output_type": "stream",
     "text": [
      "      timestamp  label\n",
      "0  1.951430e+13      1\n",
      "1  1.951431e+13      1\n",
      "2  1.951431e+13      1\n",
      "3  1.951434e+13      1\n",
      "4  1.951438e+13      1\n"
     ]
    }
   ],
   "source": [
    "# TEST WITH USER2 AS IMPOSTOR DATA\n",
    "\n",
    "path_to_test = \"data/WACA/WACA/WACA_dataset/user2_1.csv\"\n",
    "save_user_test_data(path_to_test, path_to_npy=\"data/WACA/WACA/WACA_test.npy\", path_to_csv=\"data/WACA/WACA/test.csv\")\n",
    "save_user_test_label_data(impostor=True, path_to_csv=\"data/WACA/WACA/test.csv\", path_to_test_label=\"data/WACA/WACA/test_label.csv\")\n"
   ]
  },
  {
   "cell_type": "code",
   "execution_count": 8,
   "id": "06f8d2c6",
   "metadata": {},
   "outputs": [
    {
     "name": "stdout",
     "output_type": "stream",
     "text": [
      "      timestamp  label\n",
      "0  1.718438e+11      1\n",
      "1  1.718508e+11      1\n",
      "2  1.718588e+11      1\n",
      "3  1.718638e+11      1\n",
      "4  1.718689e+11      1\n"
     ]
    }
   ],
   "source": [
    "# TEST WITH USER 20 AS IMPOSTOR DATA\n",
    "\n",
    "path_to_test = \"data/WACA/WACA/WACA_dataset/user20_1.csv\"\n",
    "save_user_test_data(path_to_test, path_to_npy=\"data/WACA/WACA/WACA_test.npy\", path_to_csv=\"data/WACA/WACA/test.csv\")\n",
    "save_user_test_label_data(impostor=True, path_to_csv=\"data/WACA/WACA/test.csv\", path_to_test_label=\"data/WACA/WACA/test_label.csv\")\n",
    "\n"
   ]
  },
  {
   "cell_type": "code",
   "execution_count": 6,
   "id": "5a6de76b",
   "metadata": {},
   "outputs": [
    {
     "name": "stdout",
     "output_type": "stream",
     "text": [
      "      timestamp  label\n",
      "0  3.560808e+11      1\n",
      "1  3.561009e+11      1\n",
      "2  3.561059e+11      1\n",
      "3  3.561159e+11      1\n",
      "4  3.561270e+11      1\n"
     ]
    }
   ],
   "source": [
    "# TEST WITH USER 23 AS IMPOSTOR DATA\n",
    "\n",
    "path_to_test = \"data/WACA/WACA/WACA_dataset/user23_1.csv\"\n",
    "save_user_test_data(path_to_test, path_to_npy=\"data/WACA/WACA/WACA_test.npy\", path_to_csv=\"data/WACA/WACA/test.csv\")\n",
    "save_user_test_label_data(impostor=True, path_to_csv=\"data/WACA/WACA/test.csv\", path_to_test_label=\"data/WACA/WACA/test_label.csv\")\n"
   ]
  },
  {
   "cell_type": "code",
   "execution_count": 16,
   "id": "eebf3641",
   "metadata": {},
   "outputs": [
    {
     "name": "stdout",
     "output_type": "stream",
     "text": [
      "24448\n"
     ]
    }
   ],
   "source": [
    "# SAVE SENSOR SPECIFIC TRAIN DATA ONLY\n",
    "\n",
    "SENSOR_TYPE = 10 # gyro only\n",
    "\n",
    "path_to_train = \"data/WACA/WACA/WACA_dataset/user1_2.csv\"\n",
    "save_sensor_specific_train_data(path_to_train, sensor_type=SENSOR_TYPE)\n",
    "\n",
    "# Load the saved .npy file\n",
    "loaded_data = np.load(\"data/WACA/WACA/WACA_train_sensor.npy\")\n",
    "print(len(loaded_data))"
   ]
  },
  {
   "cell_type": "code",
   "execution_count": 17,
   "id": "ff5f8b1f",
   "metadata": {},
   "outputs": [
    {
     "name": "stdout",
     "output_type": "stream",
     "text": [
      "      timestamp  label\n",
      "0  7.210794e+11      0\n",
      "1  7.210914e+11      0\n",
      "2  7.210969e+11      0\n",
      "3  7.211076e+11      0\n",
      "4  7.211231e+11      0\n"
     ]
    }
   ],
   "source": [
    "# SAVE SENSOR SPECIFIC TEST DATA\n",
    "\n",
    "path_to_test = \"data/WACA/WACA/WACA_dataset/user1_1.csv\"\n",
    "save_sensor_specific_test_data(path_to_test,\n",
    "                               sensor_type=SENSOR_TYPE, \n",
    "                                   path_to_npy=\"data/WACA/WACA/WACA_test_sensor.npy\", \n",
    "                                   path_to_csv=\"data/WACA/WACA/test.csv\")\n",
    "\n",
    "save_user_test_label_data(impostor=False, path_to_csv=\"data/WACA/WACA/test.csv\", path_to_test_label=\"data/WACA/WACA/test_label.csv\")"
   ]
  },
  {
   "cell_type": "code",
   "execution_count": 18,
   "id": "46d81515",
   "metadata": {},
   "outputs": [
    {
     "name": "stdout",
     "output_type": "stream",
     "text": [
      "      timestamp  label\n",
      "0  1.951430e+13      1\n",
      "1  1.951441e+13      1\n",
      "2  1.951442e+13      1\n",
      "3  1.951443e+13      1\n",
      "4  1.951445e+13      1\n"
     ]
    }
   ],
   "source": [
    "path_to_test = \"data/WACA/WACA/WACA_dataset/user2_1.csv\"\n",
    "save_sensor_specific_test_data(path_to_test,\n",
    "                               sensor_type=SENSOR_TYPE, \n",
    "                                   path_to_npy=\"data/WACA/WACA/WACA_test_sensor.npy\", \n",
    "                                   path_to_csv=\"data/WACA/WACA/test.csv\")\n",
    "\n",
    "save_user_test_label_data(impostor=True, path_to_csv=\"data/WACA/WACA/test.csv\", path_to_test_label=\"data/WACA/WACA/test_label.csv\")"
   ]
  },
  {
   "cell_type": "code",
   "execution_count": 19,
   "id": "9ec5bcd4",
   "metadata": {},
   "outputs": [
    {
     "name": "stdout",
     "output_type": "stream",
     "text": [
      "      timestamp  label\n",
      "0  1.718508e+11      1\n",
      "1  1.718860e+11      1\n",
      "2  1.718910e+11      1\n",
      "3  1.718961e+11      1\n",
      "4  1.719011e+11      1\n"
     ]
    }
   ],
   "source": [
    "path_to_test = \"data/WACA/WACA/WACA_dataset/user20_1.csv\"\n",
    "save_sensor_specific_test_data(path_to_test,\n",
    "                               sensor_type=SENSOR_TYPE, \n",
    "                                   path_to_npy=\"data/WACA/WACA/WACA_test_sensor.npy\", \n",
    "                                   path_to_csv=\"data/WACA/WACA/test.csv\")\n",
    "\n",
    "save_user_test_label_data(impostor=True, path_to_csv=\"data/WACA/WACA/test.csv\", path_to_test_label=\"data/WACA/WACA/test_label.csv\")"
   ]
  },
  {
   "cell_type": "code",
   "execution_count": 21,
   "id": "007e421f",
   "metadata": {},
   "outputs": [
    {
     "name": "stdout",
     "output_type": "stream",
     "text": [
      "      timestamp  label\n",
      "0  3.561270e+11      1\n",
      "1  3.561623e+11      1\n",
      "2  3.562227e+11      1\n",
      "3  3.562277e+11      1\n",
      "4  3.562328e+11      1\n"
     ]
    }
   ],
   "source": [
    "path_to_test = \"data/WACA/WACA/WACA_dataset/user23_1.csv\"\n",
    "save_sensor_specific_test_data(path_to_test,\n",
    "                               sensor_type=SENSOR_TYPE, \n",
    "                                   path_to_npy=\"data/WACA/WACA/WACA_test_sensor.npy\", \n",
    "                                   path_to_csv=\"data/WACA/WACA/test.csv\")\n",
    "\n",
    "save_user_test_label_data(impostor=True, path_to_csv=\"data/WACA/WACA/test.csv\", path_to_test_label=\"data/WACA/WACA/test_label.csv\")"
   ]
  },
  {
   "cell_type": "code",
   "execution_count": null,
   "id": "5a3966c8",
   "metadata": {},
   "outputs": [],
   "source": []
  }
 ],
 "metadata": {
  "kernelspec": {
   "display_name": "Python 3 (ipykernel)",
   "language": "python",
   "name": "python3"
  },
  "language_info": {
   "codemirror_mode": {
    "name": "ipython",
    "version": 3
   },
   "file_extension": ".py",
   "mimetype": "text/x-python",
   "name": "python",
   "nbconvert_exporter": "python",
   "pygments_lexer": "ipython3",
   "version": "3.8.6"
  }
 },
 "nbformat": 4,
 "nbformat_minor": 5
}
